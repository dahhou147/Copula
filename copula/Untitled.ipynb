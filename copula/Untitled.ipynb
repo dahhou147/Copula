{
 "cells": [
  {
   "cell_type": "code",
   "execution_count": null,
   "id": "b034bdf1-d3f4-42f1-86ca-0663eec38562",
   "metadata": {},
   "outputs": [],
   "source": [
    "class Hedger:\n",
    "    \"\"\"Class for hedging simulation.\"\"\"\n",
    "\n",
    "    def __init__(self, pricer: BlackScholesPricer, paths: np.ndarray, N: int, T: float):\n",
    "        self.pricer = pricer\n",
    "        self.greeks = Greeks(pricer)\n",
    "        self.paths = paths\n",
    "        self.N = N\n",
    "        self.T = T\n",
    "\n",
    "    def hedge(self, option_type=\"call\"):\n",
    "        \"\"\"Perform delta hedging simulation.\"\"\"\n",
    "        pnl = np.zeros((self.N, self.paths.shape[1]))\n",
    "        dt = self.T / self.N\n",
    "        temp_pricer = self.pricer.copy()\n",
    "\n",
    "        for i in range(self.paths.shape[1]):\n",
    "            S0 = self.paths[0, i]\n",
    "            tau = self.T\n",
    "            temp_pricer.S0 = S0\n",
    "            delta_old = self.greeks.delta(S0, tau, option_type)\n",
    "            option_value_old = (\n",
    "                self.pricer.price_call() if option_type == \"call\" else self.pricer.price_put()\n",
    "            )\n",
    "            cash_position = option_value_old - delta_old * S0\n",
    "            portfolio_value = delta_old * S0 + cash_position\n",
    "\n",
    "            for j in range(1, self.N):\n",
    "                St = self.paths[j, i]\n",
    "                tau = self.T - j * dt\n",
    "                temp_pricer.S0 = St\n",
    "                delta_new = self.greeks.delta(St, tau, option_type)\n",
    "                delta_diff = delta_new - delta_old\n",
    "                cash_position *= np.exp(self.pricer.r * dt)\n",
    "                cash_position -= delta_diff * St\n",
    "                portfolio_value = delta_new * St + cash_position\n",
    "                option_value = (\n",
    "                    self.pricer.price_call() if option_type == \"call\" else self.pricer.price_put()\n",
    "                )\n",
    "                pnl[j, i] = portfolio_value - option_value\n",
    "                delta_old = delta_new\n",
    "\n",
    "        return pnl"
   ]
  }
 ],
 "metadata": {
  "kernelspec": {
   "display_name": "Python 3 (ipykernel)",
   "language": "python",
   "name": "python3"
  },
  "language_info": {
   "codemirror_mode": {
    "name": "ipython",
    "version": 3
   },
   "file_extension": ".py",
   "mimetype": "text/x-python",
   "name": "python",
   "nbconvert_exporter": "python",
   "pygments_lexer": "ipython3",
   "version": "3.12.3"
  }
 },
 "nbformat": 4,
 "nbformat_minor": 5
}
